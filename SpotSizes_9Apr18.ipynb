{
 "cells": [
  {
   "cell_type": "code",
   "execution_count": 1,
   "metadata": {
    "collapsed": false
   },
   "outputs": [
    {
     "name": "stdout",
     "output_type": "stream",
     "text": [
      "/Users/cslage/Research/LSST/code/galsim-newgit/GalSim/devel/brighter-fatter/forward_model_varying_i\n"
     ]
    }
   ],
   "source": [
    "# My imports\n",
    "from pylab import *\n",
    "import numpy as np\n",
    "import pyfits,glob,time\n",
    "from subprocess import call\n",
    "topdir='/Users/cslage/Research/LSST/code/GUI/'\n",
    "forwarddir ='/Users/cslage/Research/LSST/code/galsim-newgit/GalSim/devel/brighter-fatter/forward_model_varying_i'\n",
    "%cd $forwarddir\n",
    "import  forward\n",
    "from scipy.optimize import fmin_powell\n",
    "global spotlist\n",
    "\n",
    "#Sergey's imports\n",
    "import ngmix\n",
    "from ngmix.fitting import LMSimple, MCMCSimple\n",
    "import numpy as np\n",
    "import posixpath, glob, datetime, os, sys\n",
    "from astropy.io import fits as pyfits\n",
    "from scipy.stats import binned_statistic_2d, binned_statistic\n",
    "from tqdm import tqdm,tqdm_notebook\n",
    "\n",
    "%matplotlib inline"
   ]
  },
  {
   "cell_type": "code",
   "execution_count": 2,
   "metadata": {
    "collapsed": false
   },
   "outputs": [],
   "source": [
    "def run_sextractor(fitsfilename):\n",
    "    configfile=topdir+'sextractor/30-micron-pinholes.sex'\n",
    "    paramfile=topdir+'sextractor/default-array_dither.param'\n",
    "    minadu=10\n",
    "    outname=fitsfilename\n",
    "\n",
    "    def make_reg_from_ldac(cat_ldac_file,text_tag):\n",
    "        thecat=pyfits.getdata(cat_ldac_file,'LDAC_OBJECTS')\n",
    "        f = open(cat_ldac_file+'.reg','w')\n",
    "        for i in range(len(thecat)):\n",
    "            xcoo,ycoo=thecat['XWIN_IMAGE'][i],thecat['YWIN_IMAGE'][i]\n",
    "            r=thecat['A_IMAGE'][i]\n",
    "            thetext=thecat[text_tag][i]\n",
    "            f.write('circle '+str(xcoo)+' '+str(ycoo)+' '+str(r)+'#text=\"'+str(thetext)+'\"\\n')\n",
    "        f.close()\n",
    " \n",
    "    callstring=[\"sex\",outname,\"-c\",configfile,\"-CATALOG_NAME\",outname+'.cat',\"-CATALOG_TYPE\",\"FITS_LDAC\",\n",
    "               \"-CHECKIMAGE_NAME\",outname[:-4]+\"back.fits\"+','+outname[:-4]+\"rms.fits\",\n",
    "               \"-CHECKIMAGE_TYPE\",\"BACKGROUND,BACKGROUND_RMS\",\n",
    "               \"-DETECT_THRESH\",\"10\",\"-DETECT_MINAREA\",\"10\",\"-THRESH_TYPE\",\"RELATIVE\",\"-DETECT_MAXAREA\",\"400\",\n",
    "               \"-ANALYSIS_THRESH\",\"2\"]\n",
    "\n",
    "    test=call(callstring)\n",
    "    make_reg_from_ldac(outname+'.cat','NUMBER')\n",
    "\n"
   ]
  },
  {
   "cell_type": "markdown",
   "metadata": {},
   "source": [
    "First, we're going to compare the Lage forward modeling code with ngmix MCMC on fitting GalSim generated spots.  These spots have been generated using the code build_spots_9apr18.py.  There are 100 spots with a dithered location and a nominal sigma of 1.5 pixels."
   ]
  },
  {
   "cell_type": "code",
   "execution_count": 3,
   "metadata": {
    "collapsed": false
   },
   "outputs": [
    {
     "name": "stdout",
     "output_type": "stream",
     "text": [
      "1  files\n"
     ]
    }
   ],
   "source": [
    "thedir='/Users/cslage/Research/LSST/code/GUI/spot_sizes/'\n",
    "filelist=sort(glob.glob(thedir+'bf_1.fits'))\n",
    "print len(filelist),\" files\"\n"
   ]
  },
  {
   "cell_type": "code",
   "execution_count": 4,
   "metadata": {
    "collapsed": false,
    "scrolled": true
   },
   "outputs": [
    {
     "name": "stdout",
     "output_type": "stream",
     "text": [
      "0.235648870468\n"
     ]
    }
   ],
   "source": [
    "tstart=time.time()\n",
    "for i in range(len(filelist)): run_sextractor(filelist[i])\n",
    "\n",
    "print time.time()-tstart"
   ]
  },
  {
   "cell_type": "code",
   "execution_count": 4,
   "metadata": {
    "collapsed": true
   },
   "outputs": [],
   "source": [
    "def Area(xl, xh, yl, yh, sigmax, sigmay, Imax):\n",
    "    # Calculates how much of a 2D Gaussian falls within a rectangular box\n",
    "    ssigx = sqrt(2) * sigmax\n",
    "    ssigy = sqrt(2) * sigmay    \n",
    "    I = (erf(xh/ssigx)-erf(xl/ssigx))*(erf(yh/ssigy)-erf(yl/ssigy))\n",
    "    return Imax * I / 4.0\n",
    "\n",
    "class Array2dSet:\n",
    "    def __init__(self,xmin,xmax,nx,ymin,ymax,ny,nstamps):\n",
    "        # This packages up a set of nstamps postage stamp images,\n",
    "        # each image of which is nx * ny pixels\n",
    "        self.nx=nx\n",
    "        self.ny=ny\n",
    "        self.nstamps=nstamps\n",
    "\n",
    "        self.xmin=xmin\n",
    "        self.ymin=ymin\n",
    "        \n",
    "        self.xmax=xmax\n",
    "        self.ymax=ymax\n",
    "        \n",
    "        self.dx=(xmax-xmin)/nx\n",
    "        self.dy=(ymax-ymin)/ny\n",
    "        \n",
    "        self.x=linspace(xmin+self.dx/2,xmax-self.dx/2,nx)\n",
    "        self.y=linspace(ymin+self.dy/2,ymax-self.dy/2,ny)\n",
    "\n",
    "        self.data=zeros([nx,ny,nstamps])\n",
    "        self.xoffset=zeros([nstamps])\n",
    "        self.yoffset=zeros([nstamps])\n",
    "        self.x2=zeros([nstamps])\n",
    "        self.y2=zeros([nstamps])\n",
    "        self.xy=zeros([nstamps])\n",
    "        self.imax=zeros([nstamps])\n",
    "\n",
    "def BuildSpotList(fitsfilename, numspots, nx, ny, minsize, maxsize):\n",
    "    global spotlist\n",
    "    stampxmin = -(int(nx/2)+0.5)\n",
    "    stampxmax = -stampxmin\n",
    "    stampymin = -(int(ny/2)+0.5)\n",
    "    stampymax = -stampymin\n",
    "    xcoomin = 0\n",
    "    xcoomax = 200\n",
    "    ycoomin = 0\n",
    "    ycoomax = 200\n",
    "    spotlist = Array2dSet(stampxmin,stampxmax,nx,stampymin,stampymax,ny,numspots)\n",
    "    hdr=pyfits.getheader(fitsfilename)\n",
    "    img=pyfits.getdata(fitsfilename) \n",
    "    catname=fitsfilename[:-5]+'.fits.cat.reg' \n",
    "    catfile = open(catname,'r')\n",
    "    catlines = catfile.readlines()\n",
    "    catfile.close()\n",
    "    n=0\n",
    "    for line in catlines:\n",
    "        try:\n",
    "            size = float(line.split()[3].split('#')[0])\n",
    "            if size < minsize or size > maxsize:\n",
    "                continue\n",
    "            xcoord = float(line.split()[1])\n",
    "            ycoord = float(line.split()[2])\n",
    "            if xcoord < xcoomin or xcoord > xcoomax or ycoord < ycoomin or ycoord > ycoomax:\n",
    "                continue\n",
    "            xint = int(xcoord-0.5)\n",
    "            yint = int(ycoord-0.5)\n",
    "            xmin = xint - int(nx/2)\n",
    "            xmax = xint + int(nx/2) + 1\n",
    "            ymin = yint - int(ny/2)\n",
    "            ymax = yint + int(ny/2) + 1\n",
    "            stamp = img[ymin:ymax, xmin:xmax]\n",
    "           \n",
    "            xsum = 0.0\n",
    "            ysum = 0.0\n",
    "            datasum = 0.0\n",
    "             \n",
    "            for i in range(nx):\n",
    "                for j in range(ny):\n",
    "                    spotlist.data[i,j,n] = float(stamp[j,i])                    \n",
    "                    ysum += spotlist.y[j] * spotlist.data[i,j,n]\n",
    "                    xsum += spotlist.x[i] * spotlist.data[i,j,n]\n",
    "                    datasum += spotlist.data[i,j,n]\n",
    "            xoff = xsum / datasum\n",
    "            yoff = ysum / datasum\n",
    "            spotlist.xoffset[n] = xoff\n",
    "            spotlist.yoffset[n] = yoff\n",
    "\n",
    "            x2sum = 0.0\n",
    "            y2sum = 0.0\n",
    "            xysum = 0.0\n",
    "            datasum = 0.0\n",
    "             \n",
    "            for i in range(nx):\n",
    "                for j in range(ny):\n",
    "                    spotlist.data[i,j,n] = float(stamp[j,i])                    \n",
    "                    x2sum += (spotlist.x[i] - spotlist.xoffset[n]) * (spotlist.x[i] - spotlist.xoffset[n]) * spotlist.data[i,j,n]\n",
    "                    y2sum += (spotlist.y[j] - spotlist.yoffset[n]) * (spotlist.y[j] - spotlist.yoffset[n]) * spotlist.data[i,j,n]\n",
    "                    xysum += (spotlist.x[i] - spotlist.xoffset[n]) * (spotlist.y[j] - spotlist.yoffset[n]) * spotlist.data[i,j,n]\n",
    "                    datasum += spotlist.data[i,j,n]\n",
    "            xoff = xsum / datasum\n",
    "            yoff = ysum / datasum\n",
    "            spotlist.x2[n] = x2sum / datasum\n",
    "            spotlist.y2[n] = y2sum / datasum\n",
    "            spotlist.xy[n] = xysum / datasum\n",
    "                    \n",
    "            n += 1\n",
    "            if n == numspots:\n",
    "                return spotlist\n",
    "        except:\n",
    "            continue\n",
    "    # Reaching this point means we found less spots than requested.\n",
    "    newspotlist = Array2dSet(stampxmin,stampxmax,nx,stampymin,stampymax,ny,n)\n",
    "    newspotlist.xoffset = spotlist.xoffset[0:n]\n",
    "    newspotlist.yoffset = spotlist.yoffset[0:n]\n",
    "    newspotlist.x2 = spotlist.x2[0:n]\n",
    "    newspotlist.y2 = spotlist.y2[0:n]\n",
    "    newspotlist.xy = spotlist.xy[0:n]\n",
    "    newspotlist.data = spotlist.data[:,:,0:n]\n",
    "    del spotlist\n",
    "    return newspotlist\n",
    "\n",
    "def FOM(params):\n",
    "    global spotlist\n",
    "    [sigmax, sigmay] = params\n",
    "    result = forward.forward(spotlist,sigmax,sigmay)\n",
    "    return result\n",
    "\n",
    "def SingleSpotList(inputspotlist, n):\n",
    "    global spotlist\n",
    "    stampxmin = inputspotlist.xmin\n",
    "    stampxmax = inputspotlist.xmax\n",
    "    nx = inputspotlist.nx\n",
    "    stampymin = inputspotlist.ymin\n",
    "    stampymax = inputspotlist.ymax\n",
    "    ny = inputspotlist.ny\n",
    "    spotlist = Array2dSet(stampxmin,stampxmax,nx,stampymin,stampymax,ny,1)\n",
    "    spotlist.xoffset = inputspotlist.xoffset[n:n+1]\n",
    "    spotlist.yoffset = inputspotlist.yoffset[n:n+1]\n",
    "    spotlist.x2 = inputspotlist.x2[n:n+1]\n",
    "    spotlist.y2 = inputspotlist.y2[n:n+1]\n",
    "    spotlist.xy = inputspotlist.xy[n:n+1]\n",
    "    spotlist.data = inputspotlist.data[:,:,n:n+1]\n",
    "    return spotlist\n",
    "\n",
    "def ReadCCFile(filename, Nx, Ny):\n",
    "    file = open(filename,'r')\n",
    "    lines=file.readlines()\n",
    "    file.close()\n",
    "    lines.remove(lines[0]) # Strip the title line\n",
    "    elec = zeros([Nx,Ny])\n",
    "    count = 0\n",
    "    for line in lines:\n",
    "        items = line.split()\n",
    "        i = int(items[0]) - 1\n",
    "        j = int(items[1]) - 1        \n",
    "        elec[i,j] = int(items[2])\n",
    "\n",
    "    return elec\n"
   ]
  },
  {
   "cell_type": "code",
   "execution_count": 5,
   "metadata": {
    "collapsed": false
   },
   "outputs": [
    {
     "name": "stdout",
     "output_type": "stream",
     "text": [
      "Optimization terminated successfully.\n",
      "         Current function value: 4387482.510491\n",
      "         Iterations: 3\n",
      "         Function evaluations: 73\n",
      "100\n",
      "[1.50001095 1.5000127 ]\n"
     ]
    }
   ],
   "source": [
    "# We build the list of spots with 9x9 postage stamps\n",
    "spotlist = BuildSpotList(filelist[0], 100, 9, 9, 1.3, 1.7)\n",
    "param0 = [1.0, 1.0]\n",
    "args = ()#(spotlist)\n",
    "Result = fmin_powell(FOM, param0, args)\n",
    "print spotlist.nstamps\n",
    "print Result\n"
   ]
  },
  {
   "cell_type": "code",
   "execution_count": 6,
   "metadata": {
    "collapsed": false
   },
   "outputs": [
    {
     "name": "stdout",
     "output_type": "stream",
     "text": [
      "100\n"
     ]
    },
    {
     "data": {
      "text/plain": [
       "<matplotlib.image.AxesImage at 0x119ba7a10>"
      ]
     },
     "execution_count": 6,
     "metadata": {},
     "output_type": "execute_result"
    },
    {
     "data": {
      "image/png": "[encoded data removed]",
      "text/plain": [
       "<matplotlib.figure.Figure at 0x1121c7510>"
      ]
     },
     "metadata": {},
     "output_type": "display_data"
    }
   ],
   "source": [
    "# Let's look at a random spot\n",
    "print spotlist.nstamps\n",
    "imshow(spotlist.data[:,:,33],interpolation='Nearest')"
   ]
  },
  {
   "cell_type": "markdown",
   "metadata": {},
   "source": [
    "As expected, the forward modeling code returns exactly 1.5 pixels for the best fit sigma of all 100 spots\n",
    "Now let's try using NGMIX on the same spots.  I don't see how to use NGMIX to fit a whole set of spots, so we'll compare the results on one spot at a time. Note that I had to increase the guess for 2*sigma^2 in get_sigma to get it to return reasonable values."
   ]
  },
  {
   "cell_type": "code",
   "execution_count": 8,
   "metadata": {
    "collapsed": true
   },
   "outputs": [],
   "source": [
    "# Imported from Sergey's NGMIX notebook\n",
    "# Added a sigma_guess to speed convergence\n",
    "def srandu(num=None):\n",
    "#  Generate random numbers in the symmetric distribution [-1,1]\n",
    "    return 2*(np.random.random(num)-0.5)\n",
    "\n",
    "def get_sigma(img, weight_map=None, xc=4.0, yc=4.0, sigma_guess=0.4, nwalkers=80, burnin=400, nstep=400):\n",
    "    guess=np.zeros((nwalkers, 6))\n",
    "\n",
    "    if weight_map is None:\n",
    "        weight_map = 1./np.sqrt(np.fabs(img))\n",
    "        \n",
    "    obs = ngmix.observation.Observation(img, weight=weight_map)\n",
    "    mc = MCMCSimple(obs, 'gauss', nwalkers=nwalkers, nsub=4)\n",
    "    guess[:,0] = xc + 0.1*srandu(nwalkers)\n",
    "    guess[:,1] = yc + 0.1*srandu(nwalkers)\n",
    "    guess[:,2] = 0. + 0.1*srandu(nwalkers)\n",
    "    guess[:,3] = 0. + 0.1*srandu(nwalkers)\n",
    "    guess[:,4] = 2.0 * sigma_guess * sigma_guess * (1.0 + 0.1*srandu(nwalkers))\n",
    "    guess[:,5] = np.sum(img) * (1.0 + 0.1*srandu(nwalkers))\n",
    "\n",
    "    pos = mc.run_mcmc(guess, burnin)\n",
    "    pos = mc.run_mcmc(pos,   nstep)\n",
    "\n",
    "    mc.calc_result()\n",
    "\n",
    "    result = mc.get_result()\n",
    "\n",
    "    if result['flags'] == 0:\n",
    "        #print result['pars']\n",
    "        return result['pars'][0], result['pars'][1], np.sqrt(result['pars'][4]/2.0)\n",
    "    else:\n",
    "        return 0.0, 0.0, 0.0\n"
   ]
  },
  {
   "cell_type": "code",
   "execution_count": 68,
   "metadata": {
    "collapsed": false,
    "scrolled": true
   },
   "outputs": [
    {
     "name": "stdout",
     "output_type": "stream",
     "text": [
      "Optimization terminated successfully.\n",
      "         Current function value: 33595.984899\n",
      "         Iterations: 3\n",
      "         Function evaluations: 73\n",
      "1.5000098527226544 1.5017450564539685\n",
      "Optimization terminated successfully.\n",
      "         Current function value: 71859.771710\n",
      "         Iterations: 3\n",
      "         Function evaluations: 73\n",
      "1.5000187244662273 1.501731034694413\n",
      "Optimization terminated successfully.\n",
      "         Current function value: 56735.517701\n",
      "         Iterations: 3\n",
      "         Function evaluations: 76\n",
      "1.5000158555680914 1.5017436161008781\n",
      "Optimization terminated successfully.\n",
      "         Current function value: 83574.396786\n",
      "         Iterations: 3\n",
      "         Function evaluations: 73\n",
      "1.5000221272040628 1.5017587310206755\n",
      "Optimization terminated successfully.\n",
      "         Current function value: 48605.861572\n",
      "         Iterations: 3\n",
      "         Function evaluations: 73\n",
      "1.500012855761179 1.5017136539322724\n",
      "Optimization terminated successfully.\n",
      "         Current function value: 16224.694553\n",
      "         Iterations: 3\n",
      "         Function evaluations: 76\n",
      "1.5000048813038154 1.5017590454567418\n",
      "Optimization terminated successfully.\n",
      "         Current function value: 75128.928179\n",
      "         Iterations: 3\n",
      "         Function evaluations: 75\n",
      "1.5000185950363147 1.5017222794376717\n",
      "Optimization terminated successfully.\n",
      "         Current function value: 48294.316292\n",
      "         Iterations: 3\n",
      "         Function evaluations: 75\n",
      "1.5000136527892243 1.5017367341738683\n",
      "Optimization terminated successfully.\n",
      "         Current function value: 11464.814553\n",
      "         Iterations: 3\n",
      "         Function evaluations: 73\n",
      "1.5000034351583034 1.501727655693658\n",
      "Optimization terminated successfully.\n",
      "         Current function value: 7468.786322\n",
      "         Iterations: 3\n",
      "         Function evaluations: 75\n",
      "1.5000022182077424 1.5017356013032168\n",
      "Optimization terminated successfully.\n",
      "         Current function value: 118340.960901\n",
      "         Iterations: 3\n",
      "         Function evaluations: 73\n",
      "1.5000295672727333 1.5017197299445484\n",
      "Optimization terminated successfully.\n",
      "         Current function value: 11068.717663\n",
      "         Iterations: 3\n",
      "         Function evaluations: 75\n",
      "1.5000033430886002 1.5017286011424211\n",
      "Optimization terminated successfully.\n",
      "         Current function value: 71663.806447\n",
      "         Iterations: 3\n",
      "         Function evaluations: 73\n",
      "1.500017582743792 1.5017587117904605\n",
      "Optimization terminated successfully.\n",
      "         Current function value: 31632.024242\n",
      "         Iterations: 3\n",
      "         Function evaluations: 73\n",
      "1.5000091834978448 1.5017402294058884\n",
      "Optimization terminated successfully.\n",
      "         Current function value: 15892.187546\n",
      "         Iterations: 3\n",
      "         Function evaluations: 73\n",
      "1.5000046515172722 1.5017474082079416\n",
      "Optimization terminated successfully.\n",
      "         Current function value: 59094.645972\n",
      "         Iterations: 3\n",
      "         Function evaluations: 73\n",
      "1.5000148272097344 1.5017221709989406\n",
      "Optimization terminated successfully.\n",
      "         Current function value: 5370.190691\n",
      "         Iterations: 3\n",
      "         Function evaluations: 86\n",
      "1.5000015729246061 1.5017224200795047\n",
      "Optimization terminated successfully.\n",
      "         Current function value: 2218.122414\n",
      "         Iterations: 3\n",
      "         Function evaluations: 73\n",
      "1.500000632345186 1.5017410869191494\n",
      "Optimization terminated successfully.\n",
      "         Current function value: 3329.141661\n",
      "         Iterations: 3\n",
      "         Function evaluations: 73\n",
      "1.5000009923480155 1.5017546592250708\n",
      "Optimization terminated successfully.\n",
      "         Current function value: 34077.504196\n",
      "         Iterations: 3\n",
      "         Function evaluations: 86\n",
      "1.5000098144829428 1.5017568145321325\n",
      "Optimization terminated successfully.\n",
      "         Current function value: 9584.494591\n",
      "         Iterations: 3\n",
      "         Function evaluations: 73\n",
      "1.5000029089710596 1.5017223377397382\n",
      "Optimization terminated successfully.\n",
      "         Current function value: 53257.953362\n",
      "         Iterations: 3\n",
      "         Function evaluations: 73\n",
      "1.500014880717538 1.5017327882707863\n",
      "Optimization terminated successfully.\n",
      "         Current function value: 47677.902240\n",
      "         Iterations: 3\n",
      "         Function evaluations: 86\n",
      "1.5000132988093493 1.501740175503602\n",
      "Optimization terminated successfully.\n",
      "         Current function value: 81333.838892\n",
      "         Iterations: 3\n",
      "         Function evaluations: 73\n",
      "1.5000216551777599 1.5017138218075576\n",
      "Optimization terminated successfully.\n",
      "         Current function value: 41682.496181\n",
      "         Iterations: 3\n",
      "         Function evaluations: 73\n",
      "1.500011618915924 1.5017378000460084\n"
     ]
    }
   ],
   "source": [
    "# NGMIX is very slow, so we'll just do 25 spots\n",
    "fullspotlist = BuildSpotList(filelist[0], 100, 9, 9, 1.3, 1.7)\n",
    "\n",
    "ngmix_sigma = []\n",
    "forward_sigma = []\n",
    "nspot = 20\n",
    "numspots = 0\n",
    "while numspots < 25:\n",
    "    spotlist = SingleSpotList(fullspotlist, nspot)\n",
    "    img = spotlist.data[:,:,0]\n",
    "    # First, run the forward modeling\n",
    "    param0 = [1.0, 1.0]\n",
    "    args = ()#(spotlist)\n",
    "    Result = fmin_powell(FOM, param0, args)\n",
    "\n",
    "    # Next run NGMIX with MCMC\n",
    "    xc,yc = 4.5, 4.5\n",
    "    yc,xc,ng_sigma = get_sigma(img, xc=yc, yc=xc, sigma_guess = 1.5, nstep=400)\n",
    "    if (not isnan(ng_sigma)) and ng_sigma > 1.2 and ng_sigma < 1.8:\n",
    "        ngmix_sigma.append(ng_sigma)\n",
    "        for_sigma = (Result[0] + Result[1])/2.0\n",
    "        forward_sigma.append(for_sigma)\n",
    "        print for_sigma, ng_sigma\n",
    "        numspots += 1\n",
    "        nspot += 1\n",
    "\n",
    "\n"
   ]
  },
  {
   "cell_type": "code",
   "execution_count": 69,
   "metadata": {
    "collapsed": false
   },
   "outputs": [
    {
     "name": "stdout",
     "output_type": "stream",
     "text": [
      "1.5017364865552443 1.3914395923641634e-05 1.500011149129599 7.6167348907006136e-06\n"
     ]
    }
   ],
   "source": [
    "print array(ngmix_sigma).mean(), array(ngmix_sigma).std(), array(forward_sigma).mean(), array(forward_sigma).std(), "
   ]
  },
  {
   "cell_type": "code",
   "execution_count": 70,
   "metadata": {
    "collapsed": false
   },
   "outputs": [
    {
     "data": {
      "image/png": "[encoded data removed]",
      "text/plain": [
       "<matplotlib.figure.Figure at 0x10dcdc710>"
      ]
     },
     "metadata": {},
     "output_type": "display_data"
    }
   ],
   "source": [
    "# Now let's plot the results\n",
    "figure(figsize = (16,8))\n",
    "title(\"Forward Model / NGMIX comparison on GalSim spots\")\n",
    "scatter(forward_sigma, ngmix_sigma, s=5.0)\n",
    "xlabel(\"Forward model result\")\n",
    "ylabel(\"NGMIX Result\")\n",
    "#xlim(1.4995,1.5005)\n",
    "#ylim(1.4995,1.5005)\n",
    "text(1.5001,1.5006,\"Forward Model Sigma = %.5f\"%array(forward_sigma).mean(),fontsize = 12)\n",
    "text(1.5001,1.5003,\"NGMIX Sigma = %.5f\"%array(ngmix_sigma).mean(),fontsize = 12)\n",
    "savefig(thedir+\"Forward_NGMIX_Comparison_10APR18.png\")\n",
    "\n"
   ]
  },
  {
   "cell_type": "markdown",
   "metadata": {},
   "source": [
    "NGMIX is much slower and has more scatter, but basically the two codes agree that the spot sizes are 1.5 microns.\n",
    "So where is the discrepancy? Next I'll try to understand how Sergey converted the *Pts.dat files into images.  I have been using the *CC.dat files, which only have the number of electrons in each pixel."
   ]
  },
  {
   "cell_type": "code",
   "execution_count": 9,
   "metadata": {
    "collapsed": false
   },
   "outputs": [
    {
     "name": "stdout",
     "output_type": "stream",
     "text": [
      "[[   0.    0.    0.    0.    0.    0.]\n",
      " [   0.    0.    0.    0.    0.    0.]\n",
      " [   0.    0.    0.    0.    0.    0.]\n",
      " [   0.    0.  124. 1278.    0.    0.]\n",
      " [   0.    0.   28.  190.    0.    0.]\n",
      " [   0.    0.    0.    0.    0.    0.]]\n",
      "[[   0.    0.    0.    0.    0.    0.]\n",
      " [   0.    0.    0.    0.    0.    0.]\n",
      " [   0.  124. 1278.    0.    0.    0.]\n",
      " [   0.   28.  190.    0.    0.    0.]\n",
      " [   0.    0.    0.    0.    0.    0.]\n",
      " [   0.    0.    0.    0.    0.    0.]]\n",
      "0.23069819861335783\n",
      "\n"
     ]
    },
    {
     "data": {
      "image/png": "[encoded data removed]",
      "text/plain": [
       "<matplotlib.figure.Figure at 0x1121c7290>"
      ]
     },
     "metadata": {},
     "output_type": "display_data"
    }
   ],
   "source": [
    "base = '/Users/cslage/Research/LSST/code/poisson/Poisson_CCD_Hole20_Fe55/data/skrun1/Pixel'\n",
    "\n",
    "x0s,y0s,x1s,y1s = [],[],[],[]\n",
    "sigmas = []\n",
    "\n",
    "noise = 10.0\n",
    "\n",
    "for iter in tqdm_notebook(xrange(1)): # Process first 100 spots from given directory\n",
    "    filename = '%s_%d_Pts.dat' % (base, iter)\n",
    "    if posixpath.exists(filename):\n",
    "\n",
    "        id,step,ph,x,y,z = np.loadtxt(filename, skiprows=1, unpack=True)\n",
    "        \n",
    "        id0 = id[ph==0]\n",
    "        x0,x1 = x[ph==0], x[ph!=0] # Initial coordinates of electron\n",
    "        y0,y1 = y[ph==0], y[ph!=0] # Final coordinates of electron\n",
    "\n",
    "        gmag0, xe, ye, binnumbers = binned_statistic_2d(x0, y0, x1-x0, bins=[6,6], statistic='count', range=[[0,60],[0,60]])\n",
    "        gmag1, xe, ye, binnumbers = binned_statistic_2d(x1, y1, x1-x0, bins=[6,6], statistic='count', range=[[0,60],[0,60]])\n",
    "        img0 = gmag0.T # Pixelization of initial locations\n",
    "        img1 = gmag1.T # Pixelization of final locations\n",
    "        # Compare Sergey's pixelization to my CC file\n",
    "        print img1\n",
    "        ccfilename = filename = '%s_%d_CC.dat' % (base, iter)\n",
    "        ccfile = ReadCCFile(filename, 9, 9)\n",
    "        print ccfile[0:6,0:6].T\n",
    "        figure()\n",
    "        subplot(1,2,1)\n",
    "        title(\"Pixelized Image - No Noise\")\n",
    "        imshow(img1, interpolation='Nearest')\n",
    "\n",
    "        # Rough centroid estimation for Gaussian fitting\n",
    "        xx,yy = np.meshgrid(np.arange(6), np.arange(6))\n",
    "        xc,yc = np.sum(xx*img1)/np.sum(img1), np.sum(yy*img1)/np.sum(img1)\n",
    "        \n",
    "        # Add artificial read-out noise\n",
    "        img = img1 + np.random.normal(scale=noise, size=img1.shape)\n",
    "        subplot(1,2,2)\n",
    "        title(\"Pixelized Image - With Noise\")\n",
    "        imshow(img, interpolation='Nearest')\n",
    "\n",
    "        weight_map = np.ones_like(img)*1./noise**2\n",
    "\n",
    "        # Get peak position using MCMC\n",
    "        yc,xc,sigma = get_sigma(img, weight_map=weight_map, sigma_guess = 0.24, xc=yc, yc=xc, nstep=400)\n",
    "        \n",
    "        # If the fit properly converged, store this spot parameters\n",
    "        if xc > 0 and xc < 6 and yc > 0 and yc < 6 and sigma > 0 and sigma < 10:\n",
    "            sigmas.append(sigma)\n",
    "            x0s.append(np.mean(x0))\n",
    "            y0s.append(np.mean(y0))\n",
    "            x1s.append(xc)\n",
    "            y1s.append(yc)\n",
    "            print sigma\n",
    "\n"
   ]
  },
  {
   "cell_type": "markdown",
   "metadata": {},
   "source": [
    "Sergey's pixelization agrees exactly with my CC file, with an offset that won't matter.  So the problem lies elsewhere.  Notice that the sigma extracted for this one spot is much smaller than the sigma extracted from a group of spots.  What if I run my forward modeling on one of these spots?  It will probably come out much smaller."
   ]
  },
  {
   "cell_type": "code",
   "execution_count": 10,
   "metadata": {
    "collapsed": false
   },
   "outputs": [
    {
     "name": "stdout",
     "output_type": "stream",
     "text": [
      "Optimization terminated successfully.\n",
      "         Current function value: 37214.476549\n",
      "         Iterations: 2\n",
      "         Function evaluations: 60\n",
      "[0.04699313 0.27557754] 0.1612853330933656\n"
     ]
    }
   ],
   "source": [
    "spotlist = BuildSpotList(filelist[0], 1, 5, 5, 1.3, 1.7)\n",
    "spotlist.data[:,:,0] = img1[1:6,1:6]\n",
    "\n",
    "param0 = [1.0, 1.0]\n",
    "args = ()#(spotlist)\n",
    "Result = fmin_powell(FOM, param0, args)\n",
    "print Result, (Result[0] + Result[1]) / 2.0\n"
   ]
  },
  {
   "cell_type": "markdown",
   "metadata": {},
   "source": [
    "Now let's try it on an actual run."
   ]
  },
  {
   "cell_type": "code",
   "execution_count": 26,
   "metadata": {
    "collapsed": false,
    "scrolled": true
   },
   "outputs": [
    {
     "name": "stdout",
     "output_type": "stream",
     "text": [
      "0.2759747423297073\n",
      "0.28629060098944203\n",
      "0.2708315005131567\n",
      "0.2421787105849473\n",
      "0.22733900334043664\n",
      "0.28658963338801874\n",
      "0.23770352799079764\n",
      "0.22462746150795737\n",
      "0.22870505602826433\n",
      "0.2091704156496447\n",
      "0.2865989569127287\n",
      "0.20351736250000757\n",
      "0.23950399253775306\n",
      "0.20752246232993937\n",
      "0.21541069219490508\n",
      "0.2392547104411367\n",
      "0.2632237026616246\n",
      "0.19661164063671377\n",
      "0.23520678246383966\n",
      "0.30036841591409785\n",
      "0.1753664402506771\n",
      "0.21389393023496237\n",
      "0.2886577653351991\n",
      "0.254560691239935\n",
      "0.2847041281118101\n",
      "0.20863851416025253\n",
      "0.24420930235545293\n",
      "0.16520834282677818\n",
      "0.29033943454145533\n",
      "0.277429529683092\n",
      "0.16674944718606893\n",
      "0.22505378560238873\n",
      "0.24133397036240556\n",
      "0.26071521906243417\n",
      "0.29536777092232597\n",
      "0.24195527267952285\n",
      "0.28573221257245873\n",
      "0.2316822541498877\n",
      "0.2521376627986918\n",
      "0.24893956168472584\n",
      "0.20284717282820092\n",
      "0.20525997707235943\n",
      "0.22658505643831214\n",
      "0.18531331034181664\n",
      "0.14896214478308847\n",
      "0.1732904906073773\n",
      "0.16276734112260494\n",
      "0.17489921772503156\n",
      "0.17287169333132107\n",
      "0.2119183276293085\n",
      "0.26035804532201884\n",
      "0.2505328072692905\n",
      "0.2283059874942159\n",
      "0.24050759482267092\n",
      "0.16865752158829064\n",
      "0.20444429267562797\n",
      "0.22232136292931984\n",
      "0.27913936585552845\n",
      "0.2938053417551064\n",
      "0.14454565689978427\n",
      "0.22821229209119168\n",
      "0.20623027634293153\n",
      "0.20939229057872033\n",
      "0.23398137054297227\n",
      "0.2682341064996413\n",
      "0.1814838881954184\n",
      "0.22895103179032425\n",
      "0.23942403964381576\n",
      "0.25433169335887457\n",
      "0.2083177753506559\n",
      "0.30541114374179845\n",
      "0.22768050897268569\n",
      "0.21738070685854025\n",
      "0.18349210329967314\n",
      "0.23201817667673558\n",
      "0.15803190739686773\n",
      "0.14124454899396113\n",
      "0.2544024879476676\n",
      "0.14288078693227985\n",
      "0.2216620465787162\n",
      "0.2025366662302246\n",
      "0.23462487233944224\n",
      "0.21628658372776802\n",
      "0.2945216736045815\n",
      "0.19292261633356952\n",
      "0.18607490287997655\n",
      "0.2952345873303544\n",
      "0.24053529524783393\n",
      "0.22783422498051434\n",
      "0.25601056051259474\n",
      "0.25116932845943235\n",
      "0.2141609086068313\n",
      "0.25803307190064784\n",
      "0.14543385565069042\n",
      "0.2557475962977931\n",
      "0.19684244952347207\n",
      "0.178246097189889\n",
      "0.24705965589655246\n",
      "0.17819104259781013\n",
      "0.24457153540003357\n",
      "0.23106073013460282\n",
      "0.14751767526199863\n",
      "0.2719438891971632\n",
      "0.18505901305195668\n",
      "0.135384278854468\n",
      "0.20471112830586066\n",
      "0.2380785751256963\n",
      "0.19606352607967742\n",
      "0.24447299161191088\n",
      "0.16764105551230796\n",
      "0.2263545127906893\n",
      "0.2777600761380654\n",
      "0.1671276596209557\n",
      "0.30823200496872233\n",
      "0.20948869835024705\n",
      "0.1939168962433754\n",
      "0.24108412865009576\n",
      "0.14521214702376567\n",
      "0.26350313353318544\n",
      "0.1880068861752024\n"
     ]
    },
    {
     "data": {
      "image/png": "[encoded data removed]",
      "text/plain": [
       "<matplotlib.figure.Figure at 0x119cfc610>"
      ]
     },
     "metadata": {},
     "output_type": "display_data"
    }
   ],
   "source": [
    "base = '/Users/cslage/Research/LSST/code/poisson/Poisson_CCD_Hole20_Fe55/data/llnl_fe55_16/cc_files/'\n",
    "\n",
    "x0s,y0s,x1s,y1s = [],[],[],[]\n",
    "sigmas = []\n",
    "\n",
    "noise = 10.0\n",
    "\n",
    "stacked_image = zeros([6,6])\n",
    "\n",
    "for iter in range(128): # Process first 64 spots from given directory\n",
    "    filename = base+'run_%d/Pixel_0_Pts.dat' % iter\n",
    "    if posixpath.exists(filename):\n",
    "        try:\n",
    "            id,step,ph,x,y,z = np.loadtxt(filename, skiprows=1, unpack=True)\n",
    "        \n",
    "            id0 = id[ph==0]\n",
    "            x0,x1 = x[ph==0], x[ph!=0] # Initial coordinates of electron\n",
    "            y0,y1 = y[ph==0], y[ph!=0] # Final coordinates of electron\n",
    "\n",
    "            gmag0, xe, ye, binnumbers = binned_statistic_2d(x0, y0, x1-x0, bins=[6,6], statistic='count', range=[[0,60],[0,60]])\n",
    "            gmag1, xe, ye, binnumbers = binned_statistic_2d(x1, y1, x1-x0, bins=[6,6], statistic='count', range=[[0,60],[0,60]])\n",
    "            img0 = gmag0.T # Pixelization of initial locations\n",
    "            img1 = gmag1.T # Pixelization of final locations\n",
    "            stacked_image = stacked_image + img1\n",
    "            # Rough centroid estimation for Gaussian fitting\n",
    "            xx,yy = np.meshgrid(np.arange(6), np.arange(6))\n",
    "            xc,yc = np.sum(xx*img1)/np.sum(img1), np.sum(yy*img1)/np.sum(img1)\n",
    "        \n",
    "        # Add artificial read-out noise\n",
    "            img = img1 + np.random.normal(scale=noise, size=img1.shape)\n",
    "            subplot(2,2,3)\n",
    "            imshow(img, interpolation='Nearest')\n",
    "\n",
    "            weight_map = np.ones_like(img)*1./noise**2\n",
    "\n",
    "            # Get peak position using MCMC\n",
    "            yc,xc,sigma = get_sigma(img, weight_map=weight_map, sigma_guess = 0.24, xc=yc, yc=xc, nstep=400)\n",
    "        \n",
    "            # If the fit properly converged, store this spot parameters\n",
    "            if xc > 0 and xc < 6 and yc > 0 and yc < 6 and sigma > 0 and sigma < 10:\n",
    "                sigmas.append(sigma)\n",
    "                x0s.append(np.mean(x0))\n",
    "                y0s.append(np.mean(y0))\n",
    "                x1s.append(xc)\n",
    "                y1s.append(yc)\n",
    "                print sigma\n",
    "        except:\n",
    "            continue\n",
    "\n",
    "\n",
    "        \n",
    "sigmas,x0s,y0s,x1s,y1s = [np.array(_) for _ in sigmas,x0s,y0s,x1s,y1s]"
   ]
  },
  {
   "cell_type": "code",
   "execution_count": 27,
   "metadata": {
    "collapsed": false
   },
   "outputs": [
    {
     "data": {
      "image/png": "[encoded data removed]",
      "text/plain": [
       "<matplotlib.figure.Figure at 0x11aa2ee50>"
      ]
     },
     "metadata": {},
     "output_type": "display_data"
    }
   ],
   "source": [
    "subplot(211)\n",
    "hist(sigmas, bins=10);\n",
    "xlabel('Sigma')\n",
    "xlim(0.0,0.5)\n",
    "text(0.01,20.0,\"Mean Sigma = %.3f\"%sigmas.mean())\n",
    "text(0.01,15.0,\"Sigma Sigma = %.3f\"%sigmas.std())\n",
    "savefig(thedir+\"Spot_by_Spot_Sigmas_Run16_10Apr18.png\")"
   ]
  },
  {
   "cell_type": "code",
   "execution_count": 28,
   "metadata": {
    "collapsed": false
   },
   "outputs": [
    {
     "data": {
      "image/png": "[encoded data removed]",
      "text/plain": [
       "<matplotlib.figure.Figure at 0x11a3d3dd0>"
      ]
     },
     "metadata": {},
     "output_type": "display_data"
    }
   ],
   "source": [
    "imshow(stacked_image, interpolation='Nearest')\n",
    "savefig(thedir+\"Stacked_Map_Run16_10Apr18.png\")"
   ]
  },
  {
   "cell_type": "code",
   "execution_count": 29,
   "metadata": {
    "collapsed": false
   },
   "outputs": [],
   "source": [
    "stacked_image = stacked_image + np.random.normal(scale=noise, size=stacked_image.shape)\n",
    "weight_map = np.ones_like(stacked_image)*1./noise**2\n",
    "\n",
    "yc,xc,sigma = get_sigma(stacked_image, weight_map=weight_map, xc=3.0, yc=3.0, nstep=40)"
   ]
  },
  {
   "cell_type": "code",
   "execution_count": 20,
   "metadata": {
    "collapsed": false
   },
   "outputs": [
    {
     "name": "stdout",
     "output_type": "stream",
     "text": [
      "Run 14, Electrons and Holes Mutual Interactions 3.0474652927987758 3.0105318270228043 0.3900681832359996\n"
     ]
    }
   ],
   "source": [
    "print \"Run 14, Electrons and Holes Mutual Interactions\", xc, yc, sigma"
   ]
  },
  {
   "cell_type": "code",
   "execution_count": 25,
   "metadata": {
    "collapsed": false
   },
   "outputs": [
    {
     "name": "stdout",
     "output_type": "stream",
     "text": [
      "Run 15, Only Electron Mutual interactions 3.0076399955306106 2.9969195335468894 0.3841123709649985\n"
     ]
    }
   ],
   "source": [
    "print \"Run 15, Only Electron Mutual interactions\", xc, yc, sigma"
   ]
  },
  {
   "cell_type": "code",
   "execution_count": 30,
   "metadata": {
    "collapsed": false
   },
   "outputs": [
    {
     "name": "stdout",
     "output_type": "stream",
     "text": [
      "Run 16, No Mutual Interactions 3.0074719528773017 2.9605132308759243 0.34843538799170065\n"
     ]
    }
   ],
   "source": [
    "print \"Run 16, No Mutual Interactions\", xc, yc, sigma"
   ]
  },
  {
   "cell_type": "code",
   "execution_count": null,
   "metadata": {
    "collapsed": true
   },
   "outputs": [],
   "source": []
  }
 ],
 "metadata": {
  "anaconda-cloud": {},
  "kernelspec": {
   "display_name": "Python 2",
   "language": "python",
   "name": "python2"
  },
  "language_info": {
   "codemirror_mode": {
    "name": "ipython",
    "version": 2
   },
   "file_extension": ".py",
   "mimetype": "text/x-python",
   "name": "python",
   "nbconvert_exporter": "python",
   "pygments_lexer": "ipython2",
   "version": "2.7.11"
  },
  "widgets": {
   "state": {
    "136a1d68b1344d0f8583bf68a960d683": {
     "views": [
      {
       "cell_index": 14
      }
     ]
    }
   },
   "version": "1.2.0"
  }
 },
 "nbformat": 4,
 "nbformat_minor": 2
}
